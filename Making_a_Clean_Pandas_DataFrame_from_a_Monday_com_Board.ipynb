{
  "nbformat": 4,
  "nbformat_minor": 0,
  "metadata": {
    "colab": {
      "provenance": []
    },
    "kernelspec": {
      "name": "python3",
      "display_name": "Python 3"
    },
    "language_info": {
      "name": "python"
    }
  },
  "cells": [
    {
      "cell_type": "markdown",
      "source": [
        "# *Making a Clean Pandas DataFrame from a Monday.com Board*\n",
        "**DISCLAIMER** *This code is partially deprecated, the Monday.com API changed in feb 15, 2024. Ajustments are needed*.\n",
        "\n",
        "With this notebook you will be able, in a single run, get a clean data frame\n",
        "from Monday.com.\n",
        "You will need:\n",
        "1. A Monday.com account with API support.\n",
        "2. Generate a API in the ADMIN Secction > API.\n",
        "3. Copy de API Key and paste in the code bellow.\n",
        "4. Get the Board ID from the URL of the board you want to use.\n",
        "5. Paste the Board ID in the code bellow.\n",
        "6. \"Run All\" and check the DataFrame at the end to make sure everything is ok.\n",
        "7. Enjoy!"
      ],
      "metadata": {
        "id": "Bf07Z8zPzCni"
      }
    },
    {
      "cell_type": "code",
      "source": [
        "import pandas as pd\n",
        "import requests\n",
        "import json"
      ],
      "metadata": {
        "id": "l8jow_EMDdPd"
      },
      "execution_count": null,
      "outputs": []
    },
    {
      "cell_type": "code",
      "execution_count": null,
      "metadata": {
        "id": "zqY-3zgxBfbp"
      },
      "outputs": [],
      "source": [
        "#this code is adapted from the monday.com support https://support.monday.com/hc/en-us/articles/360013483119-API-Quickstart-Tutorial-Python \n",
        "\n",
        "apiKey = \"YOUR_API_KEY_HERE\"\n",
        "# the API for your monday.com account you retrieve in the Admin secction / API\n",
        "\n",
        "apiUrl = \"https://api.monday.com/v2\" \n",
        "headers = {\"Authorization\" : apiKey}\n",
        "\n",
        "query2 = '{boards(ids:YOUR_BOARD_ID_HERE) { name id items { name column_values{title text } } } }'\n",
        "#the board ID is the number after the board folder in the url, ex: \"....monday.com/boards/123456789\"\n",
        "\n",
        "data = {'query' : query2}\n",
        "\n",
        "r = requests.post(url=apiUrl, json=data, headers=headers) # make request\n",
        "print(r.json())"
      ]
    },
    {
      "cell_type": "code",
      "source": [
        "r_dict = dict(r.json()) #converts the json object into a dict"
      ],
      "metadata": {
        "id": "2WMu-3RdD68P"
      },
      "execution_count": null,
      "outputs": []
    },
    {
      "cell_type": "code",
      "source": [
        "r_dict #just to view if everything is ok"
      ],
      "metadata": {
        "id": "fKSgEi0uD7pZ"
      },
      "execution_count": null,
      "outputs": []
    },
    {
      "cell_type": "code",
      "source": [
        "r_items = r_dict['data']['boards'][0]['items'] #selecting just the items for a new dict"
      ],
      "metadata": {
        "id": "nvqiKdwuE_fx"
      },
      "execution_count": null,
      "outputs": []
    },
    {
      "cell_type": "code",
      "source": [
        "l = len(r_items[0]['column_values']) #gets the lenght needed to create a df"
      ],
      "metadata": {
        "id": "wS3aI7DVKffG"
      },
      "execution_count": null,
      "outputs": []
    },
    {
      "cell_type": "code",
      "source": [
        "r_df = pd.DataFrame.from_dict(r_items) #a df made from the dict r_items"
      ],
      "metadata": {
        "id": "jw_rO7XyFA_U"
      },
      "execution_count": null,
      "outputs": []
    },
    {
      "cell_type": "code",
      "source": [
        "r_df #just to view if everything is ok"
      ],
      "metadata": {
        "id": "uVdpdTZwFoTc"
      },
      "execution_count": null,
      "outputs": []
    },
    {
      "cell_type": "code",
      "source": [
        "r_df[\"column_values\"][0] #just checking"
      ],
      "metadata": {
        "id": "FmHINohTUmFs"
      },
      "execution_count": null,
      "outputs": []
    },
    {
      "cell_type": "code",
      "source": [
        "board = pd.DataFrame(r_df[\"column_values\"].tolist(), columns=[r_df[\"column_values\"].tolist()[0][i]['title'] for i in range(l)])\n",
        "#creates the df and checks it\n",
        "board"
      ],
      "metadata": {
        "id": "iufp_jbHVI6a"
      },
      "execution_count": null,
      "outputs": []
    },
    {
      "cell_type": "code",
      "source": [
        "#this \"for\" cleans the df\n",
        "for row, data in board.iterrows():\n",
        "  if row == 0:\n",
        "    for header in data.index:\n",
        "      for i,linha in board[header].iteritems():\n",
        "        board[header][i] = linha['text']"
      ],
      "metadata": {
        "id": "IGUpDaAyUH-r"
      },
      "execution_count": null,
      "outputs": []
    },
    {
      "cell_type": "code",
      "source": [
        "board #just cheking"
      ],
      "metadata": {
        "id": "YDOUZ5iMYgI3"
      },
      "execution_count": null,
      "outputs": []
    },
    {
      "cell_type": "code",
      "source": [
        "board_df = pd.DataFrame(r_df[\"name\"]).join(board)\n",
        "#join the df with the name column and checks it\n",
        "board_df"
      ],
      "metadata": {
        "id": "hjpRgkY2ZeHO"
      },
      "execution_count": null,
      "outputs": []
    }
  ]
}
